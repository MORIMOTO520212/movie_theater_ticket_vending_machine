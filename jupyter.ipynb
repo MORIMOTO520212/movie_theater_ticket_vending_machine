{
 "metadata": {
  "language_info": {
   "codemirror_mode": {
    "name": "ipython",
    "version": 3
   },
   "file_extension": ".py",
   "mimetype": "text/x-python",
   "name": "python",
   "nbconvert_exporter": "python",
   "pygments_lexer": "ipython3",
   "version": "3.9.1-final"
  },
  "orig_nbformat": 2,
  "kernelspec": {
   "name": "python3",
   "display_name": "Python 3.9.1 64-bit",
   "metadata": {
    "interpreter": {
     "hash": "3481a5348b794c178f59359b8dc7f7fad3f0001f835c9cfa137e3d71d83f0ac4"
    }
   }
  }
 },
 "nbformat": 4,
 "nbformat_minor": 2,
 "cells": [
  {
   "cell_type": "code",
   "execution_count": 4,
   "metadata": {},
   "outputs": [
    {
     "output_type": "stream",
     "name": "stdout",
     "text": [
      "２０２０年１２月２９日\n"
     ]
    }
   ],
   "source": [
    "import datetime\n",
    "\n",
    "def toem(n):\n",
    "    # 半角数字から全角数字に変換する\n",
    "    num = [\"０\",\"１\",\"２\",\"３\",\"４\",\"５\",\"６\",\"７\",\"８\",\"９\"]\n",
    "    em = \"\"\n",
    "    for i in n:\n",
    "        em += num[int(i)]\n",
    "    return em\n",
    "\n",
    "now = datetime.datetime.now()\n",
    "Y = now.strftime(\"%Y\")\n",
    "m = now.strftime(\"%m\")\n",
    "d = now.strftime(\"%d\")\n",
    "print(\"{}年{}月{}日\".format(toem(Y),toem(m),toem(d)))\n"
   ]
  },
  {
   "cell_type": "code",
   "execution_count": null,
   "metadata": {},
   "outputs": [],
   "source": []
  }
 ]
}